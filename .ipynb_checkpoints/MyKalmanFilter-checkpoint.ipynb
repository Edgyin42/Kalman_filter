{
 "cells": [
  {
   "cell_type": "markdown",
   "id": "195fbc63-acd0-4fba-98d8-f38f6f82b1e9",
   "metadata": {},
   "source": [
    "## Kalman Filter Model\n",
    "\n",
    "The Kalman filter model assumes the true state at time $k$ is evolved from the state at $k-1$ according to:\n",
    "\n",
    "$$\n",
    "\\mathbf{x}_k = \\mathbf{F}_k \\mathbf{x}_{k-1} + \\mathbf{B}_k \\mathbf{u}_k + \\mathbf{w}_k\n",
    "$$\n",
    "\n",
    "### Where:\n",
    "- $\\mathbf{F}_k$ is the **state transition model**, which is applied to the previous state $\\mathbf{x}_{k-1}$;\n",
    "- $\\mathbf{B}_k$ is the **control-input model**, which is applied to the control vector $\\mathbf{u}_k$;\n",
    "- $\\mathbf{w}_k$ is the **process noise**, which is assumed to be drawn from a zero mean **multivariate normal distribution** $\\mathcal{N}$, with **covariance** $\\mathbf{Q}_k$:\n",
    "  $$\n",
    "  \\mathbf{w}_k \\sim \\mathcal{N}(\\mathbf{0}, \\mathbf{Q}_k).\n",
    "  $$\n",
    "At time $k$, an observation (or measurement) $\\mathbf{z}_k$ of the true state $\\mathbf{x}_k$ is made according to:\n",
    "\n",
    "$$\n",
    "\\mathbf{z}_k = \\mathbf{H}_k \\mathbf{x}_k + \\mathbf{v}_k\n",
    "$$\n",
    "\n",
    "### Where:\n",
    "- $\\mathbf{H}_k$ is the **observation model**, which maps the true state space into the observed space;\n",
    "- $\\mathbf{v}_k$ is the **observation noise**, which is assumed to be zero mean **Gaussian white noise** with **covariance** $\\mathbf{R}_k$:\n",
    "  $$\n",
    "  \\mathbf{v}_k \\sim \\mathcal{N}(\\mathbf{0}, \\mathbf{R}_k).\n",
    "  $$\n",
    "___\n",
    "\n",
    "### Predict: \n",
    "$$\\hat{x}_{k|k-1} = F_{k}\\hat{x}_{k-1|k-1} + B_ku_k$$\n",
    "$$P_{k|k-1} = F_{k}P_{k-1|k-1}F_{k}^T + Q_k$$\n",
    "### Update: \n",
    "* Innovation:\n",
    "$$\\tilde{y}_k = z_k - H\\hat{x}_{k|k-1}$$\n",
    "* Innovation covariance: \n",
    "$$S_k = H_kP_{k|k-1}H_k^T + R_k$$\n",
    "* Optimal Kalman gain: \n",
    "$$K_k = P_{k|k-1}H_k^TS_k^{-1}$$\n",
    "* Updated state estimate:\n",
    "$$\\hat{\\mathbf{x}}_{k \\mid k} = \\hat{\\mathbf{x}}_{k \\mid k-1} + \\mathbf{K}_k \\tilde{\\mathbf{y}}_k$$\n",
    "* Updated estimate covariance:\n",
    "$$P_{k|k} = (I - K_kH_k)P_{k|k-1}$$\n",
    "\n",
    "\n",
    "\n",
    "\n"
   ]
  },
  {
   "cell_type": "code",
   "execution_count": 412,
   "id": "64b82870-b0b4-4c4c-a5a1-1b1041b26e48",
   "metadata": {},
   "outputs": [],
   "source": [
    "import numpy as np\n",
    "import matplotlib.pyplot as plt"
   ]
  },
  {
   "cell_type": "markdown",
   "id": "e851859a-4595-4c1a-91fc-332a7e836786",
   "metadata": {},
   "source": [
    "### Without the use of library: "
   ]
  },
  {
   "cell_type": "code",
   "execution_count": 373,
   "id": "97a52830-0a6c-406f-b973-e32d0d28d420",
   "metadata": {},
   "outputs": [],
   "source": [
    "class Kalman_filter: \n",
    "    def __init__(self, F, Q, H, R, x, P, dt, B = None, u = None,):\n",
    "        self.F = F                                          # transition matrix\n",
    "        self.B = B if B is not None else np.zeros_like(x)   # control input matrix\n",
    "        self.u = u if u is not None else np.zeros_like(x)   # control input\n",
    "        self.Q = Q                                          # motion noise covariance\n",
    "        self.H = H                                          # observation matrix \n",
    "        self.R = R                                          # measurement noise covariance \n",
    "        self.x = x                                          # initial state\n",
    "        self.P = P                                          # error estimate covariance \n",
    "        self.dt = dt\n",
    "        self.I = np.eye(len(self.x))\n",
    "        self.state_history = [self.x]\n",
    "    def predict(self): \n",
    "        self.x = self.F @ self.x \n",
    "        self.P = self.F @ self.P @ self.F.T + self.Q \n",
    "    def update(self, z): \n",
    "        S = self.H @ self.P @ self.H.T + self.R  # Innovation covariance\n",
    "        K = self.P @ self.H.T @ np.linalg.inv(S) # Kalman gain\n",
    "        y = z - self.H @ self.x                  # Innovation\n",
    "        self.x = self.x + K @ y\n",
    "        self.P = (self.I - K @ self.H) @ self.P\n",
    "        self.state_history.append(self.x.copy())"
   ]
  },
  {
   "cell_type": "markdown",
   "id": "68ad6472-ae15-417a-b6fd-4011bb58bf80",
   "metadata": {},
   "source": [
    "### Wiener-Process Acceleration Model\n",
    "Assuming that the highest-order term is modeled as a Wiener process with covariance $S_w$. In our case, let assume the highest-order term is acceleration. Then \n",
    "$$G = \\begin{bmatrix}\n",
    "0\\\\\n",
    "0\\\\\n",
    "1\n",
    "\\end{bmatrix}$$\n",
    "maps the noise into the acceleration state.\n",
    "Then Q can be calculated: \n",
    "$$ Q = \\int_0^T \\Phi(\\tau) G G^\\top \\Phi^\\top(\\tau) \\, d\\tau, $$\n",
    "Given the transition matrix F: \n",
    "$$\n",
    "F  = \n",
    "\\begin{bmatrix}\n",
    "1 & \\Delta T & \\frac{\\Delta T^2}{2} \\\\\n",
    "0 & 1 & \\Delta T \\\\\n",
    "0 & 0 & 1\n",
    "\\end{bmatrix}.\n",
    "$$\n",
    "Subsituting F into the equation above yeilds: \n",
    "$$\n",
    "Q= S_w \n",
    "\\begin{bmatrix}\n",
    "\\frac{\\Delta T^5}{20} & \\frac{\\Delta T^4}{8} & \\frac{\\Delta T^3}{6} \\\\\n",
    "\\frac{\\Delta T^4}{8} & \\frac{\\Delta T^3}{3} & \\frac{\\Delta T^2}{2} \\\\\n",
    "\\frac{\\Delta T^3}{6} & \\frac{\\Delta T^2}{2} & \\Delta T\n",
    "\\end{bmatrix}.\n",
    "$$"
   ]
  },
  {
   "cell_type": "code",
   "execution_count": 127,
   "id": "c0358c29-e4f3-4ab6-aece-a638863e849c",
   "metadata": {},
   "outputs": [],
   "source": [
    "# Test the white noise model: \n",
    "from filterpy.common import Q_continuous_white_noise"
   ]
  },
  {
   "cell_type": "code",
   "execution_count": 143,
   "id": "ad253d61-9e7f-4f9a-9e41-b8fd856cc8c7",
   "metadata": {},
   "outputs": [
    {
     "name": "stdout",
     "output_type": "stream",
     "text": [
      "[[5.00000000e-07 1.25000000e-05 1.66666667e-04]\n",
      " [1.25000000e-05 3.33333333e-04 5.00000000e-03]\n",
      " [1.66666667e-04 5.00000000e-03 1.00000000e-01]]\n",
      "[[5.00000000e-07 1.25000000e-05 1.66666667e-04]\n",
      " [1.25000000e-05 3.33333333e-04 5.00000000e-03]\n",
      " [1.66666667e-04 5.00000000e-03 1.00000000e-01]]\n"
     ]
    }
   ],
   "source": [
    "dt = 0.1\n",
    "s_w = 1 \n",
    "Q_ = s_w * np.array([\n",
    "    [dt**5 / 20, dt**4 / 8, dt**3 / 6],\n",
    "    [dt**4 / 8, dt**3 / 3, dt**2 / 2],\n",
    "    [dt**3 / 6, dt**2 / 2, dt]\n",
    "])\n",
    "print(Q_)\n",
    "Q = Q_continuous_white_noise(dim = 3, dt = dt, spectral_density = s_w) \n",
    "print(Q)"
   ]
  },
  {
   "cell_type": "code",
   "execution_count": 144,
   "id": "214ba2ec-9b9d-449e-9b78-f30218bb4ba0",
   "metadata": {},
   "outputs": [],
   "source": [
    "# Test with 1D constant acceleration model \n",
    "F = np.array([[1, dt, dt**2/2], [0, 1, dt], [0, 0, 1]]) \n",
    "H = np.array([[1, 0, 0]]) \n",
    "R = np.array([[1]])\n",
    "x = np.array([0, 1, 1]).T \n",
    "P = np.array([[500, 0, 0],[0, 500, 0], [0, 0, 500]])\n",
    "v1 = Kalman_filter(F, Q, H, R, x, P, dt)  "
   ]
  },
  {
   "cell_type": "code",
   "execution_count": 145,
   "id": "eecd93d4-e1e3-4ee6-8842-369df3a951be",
   "metadata": {},
   "outputs": [],
   "source": [
    "# Simulate measurement model: \n",
    "class sensor(): \n",
    "    def __init__(self, x, v, a, dt, noise_std=1): \n",
    "        self.x = x\n",
    "        self.v = v\n",
    "        self.a = a\n",
    "        self.dt = dt \n",
    "        self.noise_std = noise_std\n",
    "    def read(self): \n",
    "        self.v += self.a * self.dt\n",
    "        self.x += self.v * self.dt \n",
    "        return self.x + np.random.rand() * self.noise_std"
   ]
  },
  {
   "cell_type": "code",
   "execution_count": 146,
   "id": "4e4c985b-3d14-48c7-8e56-604cd026070f",
   "metadata": {},
   "outputs": [
    {
     "data": {
      "text/plain": [
       "[<matplotlib.lines.Line2D at 0x14af67210>]"
      ]
     },
     "execution_count": 146,
     "metadata": {},
     "output_type": "execute_result"
    },
    {
     "data": {
      "image/png": "[encoded data removed]",
      "text/plain": [
       "<Figure size 640x480 with 1 Axes>"
      ]
     },
     "metadata": {},
     "output_type": "display_data"
    }
   ],
   "source": [
    "s = sensor(0, 1, 1, 0.1, 1) \n",
    "zx = []\n",
    "for i in range (30): \n",
    "    z = s.read() \n",
    "    zx.append(z) \n",
    "plt.plot(zx) # Should be a parabola"
   ]
  },
  {
   "cell_type": "code",
   "execution_count": 147,
   "id": "b733e853-db66-4197-b642-261e7c769ba2",
   "metadata": {},
   "outputs": [],
   "source": [
    "for i in range (30): \n",
    "    v1.predict()\n",
    "    v1.update(zx[i]) "
   ]
  },
  {
   "cell_type": "code",
   "execution_count": 148,
   "id": "c33c89b4-a7d0-4d49-bf0e-03b679fafa53",
   "metadata": {},
   "outputs": [
    {
     "data": {
      "text/plain": [
       "array([0.        , 1.0315374 , 0.74514791, 0.88211639, 0.92686654,\n",
       "       0.8555255 , 1.01202498, 1.48738473, 1.83814166, 2.1045495 ,\n",
       "       2.2028131 , 2.58934547, 2.74182275, 2.98150329, 3.2631913 ,\n",
       "       3.42145762, 3.49131226, 3.64023741, 3.96119587, 4.36205076,\n",
       "       4.45555009, 4.83649569, 5.15066287, 5.38867602, 5.91273623,\n",
       "       6.36279038, 6.74853897, 7.13519843, 7.41114748, 7.92873832,\n",
       "       8.40636925])"
      ]
     },
     "execution_count": 148,
     "metadata": {},
     "output_type": "execute_result"
    }
   ],
   "source": [
    "x_estimate = np.array(v1.state_history)\n",
    "x_estimate[:, 0]"
   ]
  },
  {
   "cell_type": "code",
   "execution_count": 149,
   "id": "eca96d8a-def6-4e8b-a738-403b3d8a31ee",
   "metadata": {
    "scrolled": true
   },
   "outputs": [
    {
     "data": {
      "text/plain": [
       "[<matplotlib.lines.Line2D at 0x14b0c4b90>]"
      ]
     },
     "execution_count": 149,
     "metadata": {},
     "output_type": "execute_result"
    },
    {
     "data": {
      "image/png": "[encoded data removed]",
      "text/plain": [
       "<Figure size 640x480 with 1 Axes>"
      ]
     },
     "metadata": {},
     "output_type": "display_data"
    }
   ],
   "source": [
    "plt.plot(x_estimate[:, 0])\n",
    "plt.plot(zx)"
   ]
  },
  {
   "cell_type": "markdown",
   "id": "41c75683-87dc-4dbb-8abd-2cd0a7edc25c",
   "metadata": {},
   "source": [
    "### Example using FilterPy"
   ]
  },
  {
   "cell_type": "code",
   "execution_count": 330,
   "id": "6bb2c1d8-1316-400e-9779-fe75551a83a5",
   "metadata": {},
   "outputs": [],
   "source": [
    "# Using FilterPy\n",
    "import filterpy \n",
    "from filterpy.kalman import KalmanFilter\n",
    "from filterpy.common import Q_continuous_white_noise\n",
    "from filterpy.stats import plot_covariance_ellipse\n",
    "from scipy.linalg import block_diag"
   ]
  },
  {
   "cell_type": "code",
   "execution_count": 365,
   "id": "cc3d8d9d-e0ec-4203-8cde-30e89fd543d9",
   "metadata": {},
   "outputs": [],
   "source": [
    "class PosSensor():\n",
    "    def __init__(self, dt, pos=[0,0], vel=[0, 0], noise_std=1): \n",
    "        self.vel = vel\n",
    "        self.pos = pos \n",
    "        self.noise_std = noise_std\n",
    "        self.dt = dt\n",
    "    \n",
    "    def read(self): \n",
    "        self.pos[0] += self.vel[0]*self.dt\n",
    "        self.pos[1] += self.vel[1]*self.dt\n",
    "        return [self.pos[0] + np.random.randn() * self.noise_std, \n",
    "                self.pos[1] + np.random.randn() * self.noise_std]\n",
    "R_std = 0.35\n",
    "def tracker1(dt, s_w): \n",
    "    tracker = KalmanFilter(dim_x = 4, dim_z = 2) \n",
    "    tracker.F = np.array([[1, dt, 0, 0], \n",
    "                        [0, 1, 0, 0], \n",
    "                        [0, 0, 1, dt], \n",
    "                         [0, 0, 0, 1]])\n",
    "    q = Q_continuous_white_noise(dim = 2, dt = dt, spectral_density = s_w)\n",
    "    tracker.Q = np.array(block_diag(q, q))\n",
    "    tracker.u = 0.\n",
    "    tracker.H = np.array([[1, 0, 0, 0], [0, 0, 1, 0]])\n",
    "    tracker.R = R = np.array([[R_std **2, 0], [0, R_std**2]])\n",
    "    tracker.x = np.array([0, 0, 0, 0]).T\n",
    "    tracker.P = np.eye(4)*500.\n",
    "    return tracker"
   ]
  },
  {
   "cell_type": "code",
   "execution_count": 366,
   "id": "98db5052-e46f-41a8-b7eb-7316de923f79",
   "metadata": {},
   "outputs": [],
   "source": [
    "N = 100\n",
    "sensor = PosSensor(dt, [0, 0], [2, 1], noise_std = R_std) \n",
    "zs = np.array([sensor.read() for _ in range(N)])"
   ]
  },
  {
   "cell_type": "code",
   "execution_count": 367,
   "id": "3b03c583-c8ad-4eb6-856f-70aa737a1497",
   "metadata": {},
   "outputs": [],
   "source": [
    "dt = 0.1\n",
    "s_w = 1\n",
    "t = tracker1(dt, s_w)"
   ]
  },
  {
   "cell_type": "code",
   "execution_count": 368,
   "id": "416a32b0-e589-4317-942a-f53f11686295",
   "metadata": {},
   "outputs": [],
   "source": [
    "mu, cov, _, _ = t.batch_filter(zs) "
   ]
  },
  {
   "cell_type": "code",
   "execution_count": 369,
   "id": "a36cb617-c4b8-47eb-9d58-110e0417ee87",
   "metadata": {},
   "outputs": [
    {
     "data": {
      "text/plain": [
       "(100, 2)"
      ]
     },
     "execution_count": 369,
     "metadata": {},
     "output_type": "execute_result"
    }
   ],
   "source": [
    "zs.shape"
   ]
  },
  {
   "cell_type": "code",
   "execution_count": 370,
   "id": "2724cc5d-3105-4ff1-bd1d-81c6de8ac1ae",
   "metadata": {},
   "outputs": [
    {
     "data": {
      "text/plain": [
       "array([[ 6.13464834e-02,  6.07451263e-03,  6.23650290e-02,\n",
       "         6.17536874e-03],\n",
       "       [ 3.39992832e-01,  2.71881685e+00,  6.00465642e-01,\n",
       "         5.25023695e+00],\n",
       "       [ 9.47889082e-01,  4.72721161e+00,  2.46973746e-01,\n",
       "        -7.44085792e-04],\n",
       "       [ 1.17215588e+00,  3.65785157e+00,  3.04655587e-01,\n",
       "         2.47841709e-01],\n",
       "       [ 1.11611829e+00,  2.22732404e+00,  3.86369691e-01,\n",
       "         4.40908199e-01],\n",
       "       [ 1.12717103e+00,  1.62600459e+00,  6.64668861e-01,\n",
       "         1.10622499e+00],\n",
       "       [ 1.15357676e+00,  1.28597380e+00,  9.44543088e-01,\n",
       "         1.52878760e+00],\n",
       "       [ 1.58058305e+00,  1.96770794e+00,  1.07458079e+00,\n",
       "         1.47660576e+00],\n",
       "       [ 1.69235261e+00,  1.78396548e+00,  9.12333404e-01,\n",
       "         8.06694850e-01],\n",
       "       [ 1.88534690e+00,  1.81460547e+00,  1.20785192e+00,\n",
       "         1.25765302e+00],\n",
       "       [ 2.30686865e+00,  2.31267009e+00,  1.36868722e+00,\n",
       "         1.33041417e+00],\n",
       "       [ 2.48115907e+00,  2.19459133e+00,  1.44703754e+00,\n",
       "         1.21707188e+00],\n",
       "       [ 2.56952465e+00,  1.92190384e+00,  1.64441141e+00,\n",
       "         1.37446601e+00],\n",
       "       [ 2.87788332e+00,  2.16473528e+00,  1.65255061e+00,\n",
       "         1.10416932e+00],\n",
       "       [ 3.10662984e+00,  2.19049965e+00,  1.47177471e+00,\n",
       "         4.92876205e-01],\n",
       "       [ 3.16245072e+00,  1.84681738e+00,  1.67024650e+00,\n",
       "         8.06986594e-01],\n",
       "       [ 3.41517215e+00,  1.99032245e+00,  1.68768943e+00,\n",
       "         6.73571564e-01],\n",
       "       [ 3.77785296e+00,  2.33574727e+00,  1.74363608e+00,\n",
       "         6.49486592e-01],\n",
       "       [ 4.02158125e+00,  2.35718320e+00,  2.06873765e+00,\n",
       "         1.19871473e+00],\n",
       "       [ 4.25348518e+00,  2.34913120e+00,  1.99728030e+00,\n",
       "         7.94827919e-01],\n",
       "       [ 4.55253692e+00,  2.48449745e+00,  2.03191474e+00,\n",
       "         7.00174297e-01],\n",
       "       [ 4.63189866e+00,  2.12770355e+00,  2.18201854e+00,\n",
       "         8.69165143e-01],\n",
       "       [ 4.77193964e+00,  1.97425959e+00,  2.21263261e+00,\n",
       "         7.50378626e-01],\n",
       "       [ 5.04021332e+00,  2.12371980e+00,  2.41466765e+00,\n",
       "         1.01829164e+00],\n",
       "       [ 5.20982587e+00,  2.03351879e+00,  2.47923152e+00,\n",
       "         9.39680487e-01],\n",
       "       [ 5.15101196e+00,  1.48048878e+00,  2.58405113e+00,\n",
       "         9.62571496e-01],\n",
       "       [ 5.50031482e+00,  1.90502783e+00,  2.80258968e+00,\n",
       "         1.22052034e+00],\n",
       "       [ 5.48794303e+00,  1.47706673e+00,  2.99335030e+00,\n",
       "         1.36546016e+00],\n",
       "       [ 5.59966778e+00,  1.40116267e+00,  2.93308319e+00,\n",
       "         9.50281773e-01],\n",
       "       [ 5.91085799e+00,  1.76204680e+00,  3.10554260e+00,\n",
       "         1.11362461e+00],\n",
       "       [ 6.12586846e+00,  1.84390886e+00,  3.39397487e+00,\n",
       "         1.48715903e+00],\n",
       "       [ 6.45821476e+00,  2.15602639e+00,  3.82519137e+00,\n",
       "         2.08310470e+00],\n",
       "       [ 6.59213424e+00,  1.98371247e+00,  3.70182632e+00,\n",
       "         1.38342185e+00],\n",
       "       [ 6.86710100e+00,  2.14529383e+00,  3.70312541e+00,\n",
       "         1.09432390e+00],\n",
       "       [ 6.93638260e+00,  1.83888780e+00,  3.75701166e+00,\n",
       "         9.77147084e-01],\n",
       "       [ 6.89495138e+00,  1.36356642e+00,  3.65054187e+00,\n",
       "         5.46411881e-01],\n",
       "       [ 7.01733731e+00,  1.33409468e+00,  3.46257734e+00,\n",
       "         3.46257687e-02],\n",
       "       [ 7.10667327e+00,  1.24111994e+00,  3.51667196e+00,\n",
       "         1.41435990e-01],\n",
       "       [ 7.34159196e+00,  1.47487083e+00,  3.65922350e+00,\n",
       "         4.12317384e-01],\n",
       "       [ 7.73076706e+00,  1.98472075e+00,  3.70274908e+00,\n",
       "         4.17156329e-01],\n",
       "       [ 8.06675071e+00,  2.27480658e+00,  3.90830917e+00,\n",
       "         7.62792328e-01],\n",
       "       [ 8.37946107e+00,  2.45460182e+00,  3.96094643e+00,\n",
       "         7.12918703e-01],\n",
       "       [ 8.56716721e+00,  2.33276750e+00,  4.03657295e+00,\n",
       "         7.22062802e-01],\n",
       "       [ 8.80536695e+00,  2.34315274e+00,  4.37350297e+00,\n",
       "         1.28050746e+00],\n",
       "       [ 8.70928436e+00,  1.64616604e+00,  4.37057195e+00,\n",
       "         1.00419653e+00],\n",
       "       [ 8.81640250e+00,  1.52487087e+00,  4.74198227e+00,\n",
       "         1.57586150e+00],\n",
       "       [ 9.15150114e+00,  1.91009681e+00,  4.76999843e+00,\n",
       "         1.30252875e+00],\n",
       "       [ 9.25146178e+00,  1.71802542e+00,  4.77552697e+00,\n",
       "         1.03941807e+00],\n",
       "       [ 9.55609340e+00,  1.99823335e+00,  5.00717547e+00,\n",
       "         1.30882015e+00],\n",
       "       [ 9.91678708e+00,  2.33759540e+00,  5.02215347e+00,\n",
       "         1.06431627e+00],\n",
       "       [ 1.02728329e+01,  2.59556292e+00,  4.99207686e+00,\n",
       "         7.76347021e-01],\n",
       "       [ 1.04147893e+01,  2.34748160e+00,  5.24812186e+00,\n",
       "         1.15271024e+00],\n",
       "       [ 1.06079783e+01,  2.25981086e+00,  5.31302007e+00,\n",
       "         1.04644689e+00],\n",
       "       [ 1.09469742e+01,  2.49821991e+00,  5.45647658e+00,\n",
       "         1.12832188e+00],\n",
       "       [ 1.09116988e+01,  1.89679616e+00,  5.68572615e+00,\n",
       "         1.37390873e+00],\n",
       "       [ 1.11380674e+01,  1.97419297e+00,  5.78979866e+00,\n",
       "         1.30362239e+00],\n",
       "       [ 1.14434757e+01,  2.20199979e+00,  5.75395266e+00,\n",
       "         9.52999878e-01],\n",
       "       [ 1.16109286e+01,  2.09072791e+00,  5.72921801e+00,\n",
       "         6.99782302e-01],\n",
       "       [ 1.15987758e+01,  1.62404425e+00,  5.86577841e+00,\n",
       "         8.40239885e-01],\n",
       "       [ 1.18435715e+01,  1.79785168e+00,  6.18876080e+00,\n",
       "         1.34433161e+00],\n",
       "       [ 1.20410159e+01,  1.83510448e+00,  6.34810677e+00,\n",
       "         1.39688612e+00],\n",
       "       [ 1.21438820e+01,  1.66498235e+00,  6.50116557e+00,\n",
       "         1.42509103e+00],\n",
       "       [ 1.23749546e+01,  1.80120441e+00,  6.53155917e+00,\n",
       "         1.18857917e+00],\n",
       "       [ 1.25797784e+01,  1.85331702e+00,  6.71048693e+00,\n",
       "         1.31529875e+00],\n",
       "       [ 1.29874863e+01,  2.32242802e+00,  6.44371546e+00,\n",
       "         4.75067111e-01],\n",
       "       [ 1.32418985e+01,  2.36919501e+00,  6.43775501e+00,\n",
       "         3.62276121e-01],\n",
       "       [ 1.35733122e+01,  2.56853415e+00,  6.62959887e+00,\n",
       "         6.90554438e-01],\n",
       "       [ 1.36565477e+01,  2.20228063e+00,  6.71021275e+00,\n",
       "         7.14937402e-01],\n",
       "       [ 1.39619257e+01,  2.38190755e+00,  6.79191969e+00,\n",
       "         7.36482513e-01],\n",
       "       [ 1.41151947e+01,  2.20276207e+00,  7.23527156e+00,\n",
       "         1.51638619e+00],\n",
       "       [ 1.43031669e+01,  2.13461556e+00,  7.22533642e+00,\n",
       "         1.17554028e+00],\n",
       "       [ 1.45263941e+01,  2.15521640e+00,  7.39907338e+00,\n",
       "         1.29406029e+00],\n",
       "       [ 1.46277912e+01,  1.91446640e+00,  7.60779820e+00,\n",
       "         1.46138624e+00],\n",
       "       [ 1.48908020e+01,  2.06543384e+00,  7.42251974e+00,\n",
       "         7.62249462e-01],\n",
       "       [ 1.52459191e+01,  2.37885552e+00,  7.57624567e+00,\n",
       "         9.25740702e-01],\n",
       "       [ 1.53803170e+01,  2.16054450e+00,  7.77382797e+00,\n",
       "         1.14725951e+00],\n",
       "       [ 1.54996840e+01,  1.95657880e+00,  7.94731255e+00,\n",
       "         1.27121305e+00],\n",
       "       [ 1.57776003e+01,  2.13010590e+00,  8.01967355e+00,\n",
       "         1.15569412e+00],\n",
       "       [ 1.61151721e+01,  2.39287251e+00,  8.16422675e+00,\n",
       "         1.21683650e+00],\n",
       "       [ 1.62982840e+01,  2.27436857e+00,  8.05670086e+00,\n",
       "         7.33310380e-01],\n",
       "       [ 1.65164522e+01,  2.25481596e+00,  8.05006824e+00,\n",
       "         5.64624040e-01],\n",
       "       [ 1.64903519e+01,  1.72409442e+00,  8.28875567e+00,\n",
       "         9.49034567e-01],\n",
       "       [ 1.68439391e+01,  2.10629565e+00,  8.42530588e+00,\n",
       "         1.03688997e+00],\n",
       "       [ 1.69517634e+01,  1.88942411e+00,  8.52785783e+00,\n",
       "         1.03449132e+00],\n",
       "       [ 1.71944065e+01,  2.00270785e+00,  8.63924472e+00,\n",
       "         1.05123632e+00],\n",
       "       [ 1.75007493e+01,  2.22647061e+00,  8.70037670e+00,\n",
       "         9.58434269e-01],\n",
       "       [ 1.76043684e+01,  1.97537672e+00,  8.82040055e+00,\n",
       "         1.00944379e+00],\n",
       "       [ 1.77246919e+01,  1.81249060e+00,  8.85067218e+00,\n",
       "         8.60356980e-01],\n",
       "       [ 1.77450089e+01,  1.47299828e+00,  8.71686288e+00,\n",
       "         3.96585688e-01],\n",
       "       [ 1.80346957e+01,  1.77336899e+00,  9.07009444e+00,\n",
       "         1.05807968e+00],\n",
       "       [ 1.81233002e+01,  1.58618465e+00,  9.22107593e+00,\n",
       "         1.15337492e+00],\n",
       "       [ 1.84007732e+01,  1.83691265e+00,  9.41772900e+00,\n",
       "         1.32491320e+00],\n",
       "       [ 1.84920205e+01,  1.64189862e+00,  9.56854684e+00,\n",
       "         1.36357368e+00],\n",
       "       [ 1.87397639e+01,  1.81815814e+00,  9.54602673e+00,\n",
       "         1.02841568e+00],\n",
       "       [ 1.87899460e+01,  1.54047171e+00,  9.67652697e+00,\n",
       "         1.08676269e+00],\n",
       "       [ 1.89900789e+01,  1.63769139e+00,  9.86371291e+00,\n",
       "         1.25238179e+00],\n",
       "       [ 1.93207179e+01,  1.98970955e+00,  9.83530692e+00,\n",
       "         9.28263630e-01],\n",
       "       [ 1.95179698e+01,  1.98608318e+00,  1.00434099e+01,\n",
       "         1.17144393e+00],\n",
       "       [ 1.96384622e+01,  1.82129467e+00,  1.00543482e+01,\n",
       "         9.47398339e-01],\n",
       "       [ 2.01123474e+01,  2.43676439e+00,  1.00124621e+01,\n",
       "         6.59180796e-01]])"
      ]
     },
     "execution_count": 370,
     "metadata": {},
     "output_type": "execute_result"
    }
   ],
   "source": [
    "mu"
   ]
  },
  {
   "cell_type": "code",
   "execution_count": 372,
   "id": "9143f90b-c530-4392-ad25-d2710a226694",
   "metadata": {
    "scrolled": true
   },
   "outputs": [
    {
     "data": {
      "text/plain": [
       "[<matplotlib.lines.Line2D at 0x14c073f50>]"
      ]
     },
     "execution_count": 372,
     "metadata": {},
     "output_type": "execute_result"
    },
    {
     "data": {
      "image/png": "[encoded data removed]",
      "text/plain": [
       "<Figure size 640x480 with 1 Axes>"
      ]
     },
     "metadata": {},
     "output_type": "display_data"
    }
   ],
   "source": [
    "plt.plot(mu[:, 0], mu[:, 2], c = \"r\" ) # estimation \n",
    "plt.plot(zs[:, 0], zs[:, 1])"
   ]
  },
  {
   "cell_type": "markdown",
   "id": "a764927e-dd59-44a3-a5d3-9bc74fcf486a",
   "metadata": {},
   "source": [
    "## Implementation of Unscented Kalman filter: "
   ]
  },
  {
   "cell_type": "markdown",
   "id": "15ea5901-14a9-4187-a8fb-bf0c86174fa8",
   "metadata": {},
   "source": [
    "### Predict: \n",
    "1. Generate sigma points (the points we use later to approximate the mean and covariance of a distrbution)  and their corresponding weights: \n",
    "$$\\begin{aligned} \n",
    "\\boldsymbol\\chi &= \\text{sigma-function}(\\mathbf x, \\mathbf P) \\\\\n",
    "W^m, W^c &= \\text{weight-function}(\\mathtt{n, parameters})\\end{aligned}$$\n",
    "2. Pass each sigma point through the process function f, resulting the transformed sigma points $\\boldsymbol{\\mathcal{Y}}$:\n",
    "$$\\boldsymbol{\\mathcal{Y}} = f(\\boldsymbol{\\chi}, \\Delta t)$$        \n",
    "3. Compute the predicted mean and covariance: \n",
    "$$\\begin{aligned}\n",
    "\\mathbf{\\bar x} &= \\sum_{i=0}^{2n} w^m_i\\boldsymbol{\\mathcal Y}_i \\\\\n",
    "\\mathbf{\\bar P} &= \\sum_{i=0}^{2n} w^c_i({\\boldsymbol{\\mathcal Y}_i - \\mathbf{\\bar x})(\\boldsymbol{\\mathcal Y}_i-\\mathbf{\\bar x})^\\mathsf{T}} + \\mathbf Q\n",
    "\\end{aligned}\n",
    "$$\n",
    "### Update: \n",
    "1. Convert the transformed sigma points into measurements using a measurement function *h(x)*:\n",
    "$$\\boldsymbol{\\mathcal{Z}} = h(\\boldsymbol{\\mathcal{Y}})$$\n",
    "2. Compute the mean and the covariance of $\\boldsymbol{\\mathcal{Z}}$\n",
    "$$\\begin{aligned}\n",
    "\\boldsymbol\\mu_z &= \\sum_{i=0}^{2n} w^m_i\\boldsymbol{\\mathcal Z}_i \\\\\n",
    "\\mathbf P_z &= \\sum_{i=0}^{2n} w^c_i{(\\boldsymbol{\\mathcal Z}_i-\\boldsymbol{\\mu}_z)(\\boldsymbol{\\mathcal Z}_i-\\boldsymbol{\\mu}_z)^\\mathsf T} + \\mathbf R\n",
    "\\end{aligned}\n",
    "$$\n",
    "3. Compute the innovation:\n",
    "$$\\mathbf y = \\mathbf z - \\boldsymbol\\mu_z $$\n",
    "4. "
   ]
  },
  {
   "cell_type": "code",
   "execution_count": null,
   "id": "446bf673-46cd-463c-aa5b-d2f8b0259ecd",
   "metadata": {},
   "outputs": [],
   "source": []
  },
  {
   "cell_type": "markdown",
   "id": "9b30defc-6532-444c-918e-0d0f01b5eb3e",
   "metadata": {},
   "source": [
    "NOT WORKING FOR NOW :( \n",
    "## Extended Kalman Filter: \n",
    "\n",
    "### Predict:\n",
    "We have: \n",
    "$$x_{k-1|k-1} \\sim  \\mathcal{N}(\\hat{x}_{k-1|k-1}, \\mathbf{P}_{k-1|k-1})$$\n",
    "We approximate $x_{k|k-1}$ using first-order Taylor expansion: \n",
    "$$\n",
    "\\mathbf{x}_k = \\mathbf{f}(\\mathbf{x}_{k-1}) + \\mathbf{q}_{k-1} \\\\\n",
    "\\approx \\mathbf{f}(\\hat{\\mathbf{x}}_{k-1|k-1}) + \\mathbf{f}'(\\hat{\\mathbf{x}}_{k-1|k-1}) \\left( \\mathbf{x}_{k-1} - \\hat{\\mathbf{x}}_{k-1|k-1} \\right) + \\mathbf{q}_{k-1}\n",
    "$$\n",
    "where  $\\mathbf{f}'(\\hat{\\mathbf{x}}_{k-1|k-1})$ is the Jacobian matrix of the process function $\\mathbf{f}(\\mathbf{x}_{k-1})$<br>\n",
    "\n",
    "**PREDICTION:**\n",
    "$$\n",
    "\\hat{\\mathbf{x}}_{k|k-1} = \\mathbf{f}(\\hat{\\mathbf{x}}_{k-1|k-1}) $$\n",
    "$$\n",
    "\\mathbf{P}_{k|k-1} = \\mathbf{f}'(\\hat{\\mathbf{x}}_{k-1|k-1}) \\mathbf{P}_{k-1|k-1} \\mathbf{f}'(\\hat{\\mathbf{x}}_{k-1|k-1})^T + \\mathbf{Q}_{k-1}\n",
    "$$\n",
    "\n",
    "### Update: \n",
    "Similarly, we approximate\n",
    "$$\n",
    "\\mathbf{y}_k = \\mathbf{h}(\\mathbf{x}_k) + \\mathbf{r}_k \\\\\n",
    "\\approx \\mathbf{h}(\\hat{\\mathbf{x}}_{k|k-1}) + \\mathbf{h}'(\\hat{\\mathbf{x}}_{k|k-1}) \\left( \\mathbf{x}_k - \\hat{\\mathbf{x}}_{k|k-1} \\right) + \\mathbf{r}_{k-1}\n",
    "$$\n",
    "**UPDATE:**\n",
    "$$\n",
    "\\hat{\\mathbf{x}}_{k|k} = \\hat{\\mathbf{x}}_{k|k-1} + \\mathbf{K}_k \\left( \\mathbf{y}_k - \\mathbf{h}(\\hat{\\mathbf{x}}_{k|k-1}) \\right)$$\n",
    "$$\n",
    "\\mathbf{P}_{k|k} = \\mathbf{P}_{k|k-1} - \\mathbf{K}_k \\mathbf{S}_k \\mathbf{K}_k^T$$ \n",
    "$$\n",
    "\\mathbf{S}_k = \\mathbf{h}'(\\hat{\\mathbf{x}}_{k|k-1}) \\mathbf{P}_{k|k-1} \\mathbf{h}'(\\hat{\\mathbf{x}}_{k|k-1})^T + \\mathbf{R}_k$$\n",
    "$$\n",
    "\\mathbf{K}_k = \\mathbf{P}_{k|k-1} \\mathbf{h}'(\\hat{\\mathbf{x}}_{k|k-1})^T \\mathbf{S}_k^{-1}\n",
    "$$\n",
    "\n",
    "\n",
    "\n",
    "\n"
   ]
  },
  {
   "cell_type": "code",
   "execution_count": 385,
   "id": "969097fd-eda6-467f-a05b-35c7720106b1",
   "metadata": {},
   "outputs": [],
   "source": [
    "import sympy as sp"
   ]
  },
  {
   "cell_type": "code",
   "execution_count": 491,
   "id": "09101564-6db5-4544-889e-c0e2c424d6e9",
   "metadata": {},
   "outputs": [],
   "source": [
    "class Extended_Kalman_filter: \n",
    "    def __init__(self, f, Q, h, R, x, P, dt, B=None, u=None):\n",
    "        self.f = f                                          # Process function\n",
    "        self.B = B if B is not None else np.zeros_like(x)   # Control input matrix\n",
    "        self.u = u if u is not None else np.zeros_like(x)   # Control input\n",
    "        self.Q = Q                                          # Motion noise covariance\n",
    "        self.h = h                                          # Observation function \n",
    "        self.R = R                                          # Measurement noise covariance \n",
    "        self.x = x                                          # Initial state\n",
    "        self.P = P                                          # Error estimate covariance \n",
    "        self.dt = dt\n",
    "        self.I = np.eye(len(self.x))\n",
    "        self.state_history = [self.x]\n",
    "        \n",
    "        x_symbols = sp.Matrix(sp.symbols(f'x1:{len(x)+1}'))  # e.g., x1, x2, ..., xn\n",
    "        self.F_jacobian_symbolic = sp.Matrix(f(x_symbols)).jacobian(x_symbols)\n",
    "        self.H_jacobian_symbolic = sp.Matrix(h(x_symbols)).jacobian(x_symbols)\n",
    "\n",
    "    def compute_numerical_jacobian(self, jacobian_symbolic, x):\n",
    "\n",
    "        subs_dict = {f'x{i+1}': x[i] for i in range(len(x))}\n",
    "        jacobian_numeric = np.array(jacobian_symbolic.subs(subs_dict)).astype(float)\n",
    "        return jacobian_numeric\n",
    "\n",
    "    def predict(self): \n",
    "        F = self.compute_numerical_jacobian(self.F_jacobian_symbolic, self.x)\n",
    "        \n",
    "        self.x = self.f(self.x)\n",
    "        self.P = F @ self.P @ F.T + self.Q  # Covariance matrix update\n",
    "        \n",
    "    def update(self, z): \n",
    "        H = self.compute_numerical_jacobian(self.H_jacobian_symbolic, self.x)\n",
    "        \n",
    "        # Innovation covariance (S)\n",
    "        S = H @ self.P @ H.T + self.R\n",
    "        \n",
    "        # Kalman gain (K)\n",
    "        K = self.P @ H.T @ np.linalg.inv(S)\n",
    "        \n",
    "        # Innovation (residual)\n",
    "        y = z - self.h(self.x)\n",
    "        \n",
    "        # Update the state and covariance\n",
    "        self.x = self.x + K @ y\n",
    "        self.P = (self.I - K @ H) @ self.P\n",
    "        \n",
    "        # Store state history\n",
    "        self.state_history.append(self.x.copy())\n"
   ]
  },
  {
   "cell_type": "markdown",
   "id": "ae910e79-f5af-4e7e-ab5c-7828e7884ad0",
   "metadata": {},
   "source": [
    "### Example: Tracking a Airplane \n",
    "$$\\mathbf x = \\begin{bmatrix}\\mathtt{distance} \\\\\\mathtt{velocity}\\\\ \\mathtt{altitude} \\\\ \\mathtt{climb\\, rate}\\end{bmatrix}=  \\begin{bmatrix}x \\\\\\dot x\\\\ y \\\\ \\dot y\\end{bmatrix}$$"
   ]
  },
  {
   "cell_type": "code",
   "execution_count": 509,
   "id": "08f3170d-ff0e-4549-b3eb-5e7602305008",
   "metadata": {},
   "outputs": [],
   "source": [
    "from numpy.linalg import norm # To calculate L2 norm\n",
    "from math import atan2, degrees \n",
    "from math import sqrt\n",
    "from numpy.random import randn \n"
   ]
  },
  {
   "cell_type": "code",
   "execution_count": 511,
   "id": "8a6b13cb-62ef-4eed-914a-f5ca4c6404f2",
   "metadata": {},
   "outputs": [],
   "source": [
    "# Incorporate both noisy reading and noisy velocity update. \n",
    "class radar(): \n",
    "    def __init__(self,\n",
    "        dt = 1, \n",
    "        pos_radar = [0, 0], \n",
    "        pos_AC = [100, 100], \n",
    "        vel = 1, \n",
    "        climb_rate = 0.1, \n",
    "        vel_noise_std = 1,\n",
    "        climb_rate_noise_std = 0.05,\n",
    "        angle_std = 1, \n",
    "        distance_std = 1, \n",
    "    ): \n",
    "        self.dt = dt \n",
    "        self.pos_radar = np.array(pos_radar)\n",
    "        self.pos_AC = pos_AC\n",
    "        self.vel = vel \n",
    "        self.climb_rate = climb_rate\n",
    "        self.vel_noise_std = vel_noise_std\n",
    "        self.climb_rate_noise_std = climb_rate_noise_std\n",
    "        self.angle_std = angle_std\n",
    "        self.distance_std = distance_std\n",
    "    def update(self): \n",
    "        self.pos_AC[0] += self.vel * self.dt + (self.vel * dt) * randn() * self.vel_noise_std\n",
    "        self.pos_AC[1] += self.climb_rate * self.dt + (self.climb_rate * dt) * randn() * self.climb_rate_noise_std\n",
    "    def read(self):\n",
    "        self.update() \n",
    "        diff = np.subtract(self.pos_AC, self.pos_radar)\n",
    "        print(diff)\n",
    "        distance = norm(diff) \n",
    "        angle = degrees(atan2(diff[1], diff[0]))\n",
    "        return [distance + randn() * self.distance_std, angle + randn() * self.angle_std]"
   ]
  },
  {
   "cell_type": "code",
   "execution_count": 512,
   "id": "d697202f-23b7-45ab-9fe6-2f4d9e9e2d6e",
   "metadata": {},
   "outputs": [
    {
     "name": "stdout",
     "output_type": "stream",
     "text": [
      "[101.01440875 100.0997194 ]\n",
      "[101.90146913 100.19976608]\n",
      "[102.95300058 100.30053791]\n",
      "[104.05595133 100.40076495]\n",
      "[104.90800689 100.50241493]\n",
      "[105.89075306 100.60229256]\n",
      "[106.88038885 100.70239879]\n",
      "[107.90157375 100.80289463]\n",
      "[108.90603134 100.90265596]\n",
      "[109.8554484  101.00281036]\n",
      "[110.81364532 101.10308916]\n",
      "[111.66004158 101.20279359]\n",
      "[112.81242476 101.30347744]\n",
      "[113.77721457 101.40388701]\n",
      "[114.69060467 101.50353605]\n",
      "[115.67354104 101.60324032]\n",
      "[116.48215449 101.70322289]\n",
      "[117.49960201 101.80311579]\n",
      "[118.49886225 101.90256663]\n",
      "[119.5103538  102.00219688]\n",
      "[120.46979563 102.10227899]\n",
      "[121.4861572  102.20220588]\n",
      "[122.54820082 102.30300675]\n",
      "[123.45923142 102.40392107]\n",
      "[124.53780169 102.50410183]\n",
      "[125.47066901 102.60436311]\n",
      "[126.53200449 102.70439421]\n",
      "[127.50197825 102.80503934]\n",
      "[128.69599606 102.90447117]\n",
      "[129.59123122 103.00434526]\n"
     ]
    }
   ],
   "source": [
    "r = radar() \n",
    "x = np.array([r.read() for _ in range(30)])"
   ]
  },
  {
   "cell_type": "code",
   "execution_count": 481,
   "id": "54c40175-5d5f-4e20-9929-a307da447bd6",
   "metadata": {},
   "outputs": [],
   "source": [
    "def process_function(x):\n",
    "    F = np.array([[1, dt, 0, 0],\n",
    "                  [0,  1, 0, 0],\n",
    "                  [0,  0, 1, dt],\n",
    "                  [0,  0, 0, 1], \n",
    "                 ], dtype=float)\n",
    "    return F @ x"
   ]
  },
  {
   "cell_type": "code",
   "execution_count": 517,
   "id": "e76e00bc-0f65-4a62-8eec-0a8eb98affaa",
   "metadata": {},
   "outputs": [],
   "source": [
    "def observation_function(x): \n",
    "    return sp.Matrix([\n",
    "        sp.sqrt((x[0] - r.pos_radar[0]) ** 2 + (x[1] - r.pos_radar[1]) ** 2),  # Distance\n",
    "        sp.atan2(x[1], x[0]) * 180 / sp.pi                                     # Angle in degrees\n",
    "    ])"
   ]
  },
  {
   "cell_type": "code",
   "execution_count": 518,
   "id": "890ad918-80c9-44db-ab9a-55fdd27bb57f",
   "metadata": {},
   "outputs": [],
   "source": [
    "dt = 0.1 \n",
    "q1 = Q_continuous_white_noise(dim = 2, dt = dt, spectral_density = 1) \n",
    "q2 = Q_continuous_white_noise(dim = 2, dt = dt, spectral_density = 0.1) \n",
    "Q = np.array(block_diag(q1, q2))\n",
    "R = np.array([[1, 0], [0, 0.5]]) \n",
    "x = np.array([0, 0, 0, 0])\n",
    "P = np.eye(4)*500."
   ]
  },
  {
   "cell_type": "code",
   "execution_count": 519,
   "id": "876a3e7e-34de-4e86-93b6-eb80c23bb797",
   "metadata": {},
   "outputs": [],
   "source": [
    "f = Extended_Kalman_filter(f = process_function, Q = Q, h = observation_function, R = R, x = x, P = P, dt = dt, B = None, u = None,) "
   ]
  },
  {
   "cell_type": "code",
   "execution_count": 520,
   "id": "57b54934-8d80-453e-9db1-3a40159aa62f",
   "metadata": {},
   "outputs": [
    {
     "ename": "TypeError",
     "evalue": "Cannot convert complex to float",
     "output_type": "error",
     "traceback": [
      "\u001b[0;31m---------------------------------------------------------------------------\u001b[0m",
      "\u001b[0;31mTypeError\u001b[0m                                 Traceback (most recent call last)",
      "Cell \u001b[0;32mIn[520], line 3\u001b[0m\n\u001b[1;32m      1\u001b[0m \u001b[38;5;28;01mfor\u001b[39;00m d \u001b[38;5;129;01min\u001b[39;00m x: \n\u001b[1;32m      2\u001b[0m     f\u001b[38;5;241m.\u001b[39mpredict() \n\u001b[0;32m----> 3\u001b[0m     f\u001b[38;5;241m.\u001b[39mupdate(d)\n",
      "Cell \u001b[0;32mIn[491], line 38\u001b[0m, in \u001b[0;36mExtended_Kalman_filter.update\u001b[0;34m(self, z)\u001b[0m\n\u001b[1;32m     36\u001b[0m \u001b[38;5;28;01mdef\u001b[39;00m \u001b[38;5;21mupdate\u001b[39m(\u001b[38;5;28mself\u001b[39m, z): \n\u001b[1;32m     37\u001b[0m     \u001b[38;5;66;03m# Compute numerical Jacobian of h at the current state\u001b[39;00m\n\u001b[0;32m---> 38\u001b[0m     H \u001b[38;5;241m=\u001b[39m \u001b[38;5;28mself\u001b[39m\u001b[38;5;241m.\u001b[39mcompute_numerical_jacobian(\u001b[38;5;28mself\u001b[39m\u001b[38;5;241m.\u001b[39mH_jacobian_symbolic, \u001b[38;5;28mself\u001b[39m\u001b[38;5;241m.\u001b[39mx)\n\u001b[1;32m     40\u001b[0m     \u001b[38;5;66;03m# Innovation covariance (S)\u001b[39;00m\n\u001b[1;32m     41\u001b[0m     S \u001b[38;5;241m=\u001b[39m H \u001b[38;5;241m@\u001b[39m \u001b[38;5;28mself\u001b[39m\u001b[38;5;241m.\u001b[39mP \u001b[38;5;241m@\u001b[39m H\u001b[38;5;241m.\u001b[39mT \u001b[38;5;241m+\u001b[39m \u001b[38;5;28mself\u001b[39m\u001b[38;5;241m.\u001b[39mR\n",
      "Cell \u001b[0;32mIn[491], line 25\u001b[0m, in \u001b[0;36mExtended_Kalman_filter.compute_numerical_jacobian\u001b[0;34m(self, jacobian_symbolic, x)\u001b[0m\n\u001b[1;32m     21\u001b[0m \u001b[38;5;250m\u001b[39m\u001b[38;5;124;03m\"\"\"\u001b[39;00m\n\u001b[1;32m     22\u001b[0m \u001b[38;5;124;03mSubstitute numerical values into the symbolic Jacobian and evaluate it.\u001b[39;00m\n\u001b[1;32m     23\u001b[0m \u001b[38;5;124;03m\"\"\"\u001b[39;00m\n\u001b[1;32m     24\u001b[0m subs_dict \u001b[38;5;241m=\u001b[39m {\u001b[38;5;124mf\u001b[39m\u001b[38;5;124m'\u001b[39m\u001b[38;5;124mx\u001b[39m\u001b[38;5;132;01m{\u001b[39;00mi\u001b[38;5;241m+\u001b[39m\u001b[38;5;241m1\u001b[39m\u001b[38;5;132;01m}\u001b[39;00m\u001b[38;5;124m'\u001b[39m: x[i] \u001b[38;5;28;01mfor\u001b[39;00m i \u001b[38;5;129;01min\u001b[39;00m \u001b[38;5;28mrange\u001b[39m(\u001b[38;5;28mlen\u001b[39m(x))}\n\u001b[0;32m---> 25\u001b[0m jacobian_numeric \u001b[38;5;241m=\u001b[39m np\u001b[38;5;241m.\u001b[39marray(jacobian_symbolic\u001b[38;5;241m.\u001b[39msubs(subs_dict))\u001b[38;5;241m.\u001b[39mastype(\u001b[38;5;28mfloat\u001b[39m)\n\u001b[1;32m     26\u001b[0m \u001b[38;5;28;01mreturn\u001b[39;00m jacobian_numeric\n",
      "File \u001b[0;32m/opt/anaconda3/lib/python3.11/site-packages/sympy/core/expr.py:350\u001b[0m, in \u001b[0;36mExpr.__float__\u001b[0;34m(self)\u001b[0m\n\u001b[1;32m    348\u001b[0m     \u001b[38;5;28;01mreturn\u001b[39;00m \u001b[38;5;28mfloat\u001b[39m(result)\n\u001b[1;32m    349\u001b[0m \u001b[38;5;28;01mif\u001b[39;00m result\u001b[38;5;241m.\u001b[39mis_number \u001b[38;5;129;01mand\u001b[39;00m result\u001b[38;5;241m.\u001b[39mas_real_imag()[\u001b[38;5;241m1\u001b[39m]:\n\u001b[0;32m--> 350\u001b[0m     \u001b[38;5;28;01mraise\u001b[39;00m \u001b[38;5;167;01mTypeError\u001b[39;00m(\u001b[38;5;124m\"\u001b[39m\u001b[38;5;124mCannot convert complex to float\u001b[39m\u001b[38;5;124m\"\u001b[39m)\n\u001b[1;32m    351\u001b[0m \u001b[38;5;28;01mraise\u001b[39;00m \u001b[38;5;167;01mTypeError\u001b[39;00m(\u001b[38;5;124m\"\u001b[39m\u001b[38;5;124mCannot convert expression to float\u001b[39m\u001b[38;5;124m\"\u001b[39m)\n",
      "\u001b[0;31mTypeError\u001b[0m: Cannot convert complex to float"
     ]
    }
   ],
   "source": [
    "for d in x: \n",
    "    f.predict() \n",
    "    f.update(d)"
   ]
  },
  {
   "cell_type": "code",
   "execution_count": 513,
   "id": "0f83df37-2414-45fe-b06f-19843bbec8aa",
   "metadata": {},
   "outputs": [
    {
     "data": {
      "text/plain": [
       "array([[140.91936545,  46.64179996],\n",
       "       [143.3803342 ,  43.5712528 ],\n",
       "       [143.00172565,  43.29742904],\n",
       "       [143.81640013,  43.32787101],\n",
       "       [144.94949098,  43.4691878 ],\n",
       "       [146.40517904,  43.04699255],\n",
       "       [148.15296322,  43.78219508],\n",
       "       [146.39197972,  42.02680959],\n",
       "       [149.50418321,  43.01606021],\n",
       "       [149.08225515,  41.4757801 ],\n",
       "       [148.81666604,  41.35768255],\n",
       "       [152.4430231 ,  42.71510343],\n",
       "       [151.48583734,  42.2336932 ],\n",
       "       [152.60222716,  41.44569572],\n",
       "       [153.13297086,  41.6077649 ],\n",
       "       [153.9762534 ,  40.92547971],\n",
       "       [153.47946526,  40.32548881],\n",
       "       [157.94279096,  40.06708872],\n",
       "       [158.03343154,  42.93218777],\n",
       "       [155.88980644,  41.20479453],\n",
       "       [160.77704889,  41.15512482],\n",
       "       [159.42483485,  39.33339827],\n",
       "       [159.83196261,  40.49149034],\n",
       "       [161.04039655,  38.96992146],\n",
       "       [161.01154378,  39.57060897],\n",
       "       [162.112839  ,  40.19502239],\n",
       "       [160.90688799,  38.11513593],\n",
       "       [164.43425927,  39.68559432],\n",
       "       [164.90443224,  39.22010244],\n",
       "       [164.93385235,  38.64312807]])"
      ]
     },
     "execution_count": 513,
     "metadata": {},
     "output_type": "execute_result"
    }
   ],
   "source": [
    "x"
   ]
  },
  {
   "cell_type": "code",
   "execution_count": null,
   "id": "ef628cff-5d56-4565-bf01-e23be790c85b",
   "metadata": {},
   "outputs": [],
   "source": []
  },
  {
   "cell_type": "code",
   "execution_count": null,
   "id": "ac06b5d4-fbc2-4168-8fe5-b70d702d79e0",
   "metadata": {},
   "outputs": [],
   "source": []
  },
  {
   "cell_type": "markdown",
   "id": "edd7dabd-40e9-4771-8f3f-f69fb6337f2d",
   "metadata": {},
   "source": [
    "## Bearing "
   ]
  },
  {
   "cell_type": "code",
   "execution_count": null,
   "id": "ef392a80-ea36-4f2f-874b-a6badc9aed75",
   "metadata": {},
   "outputs": [],
   "source": []
  },
  {
   "cell_type": "code",
   "execution_count": null,
   "id": "1516e2b5-2b92-41e7-b7a8-27c185a696f5",
   "metadata": {},
   "outputs": [],
   "source": []
  },
  {
   "cell_type": "code",
   "execution_count": null,
   "id": "1d4f9623-fe3d-481c-9f95-903cbef4a9bc",
   "metadata": {},
   "outputs": [],
   "source": []
  },
  {
   "cell_type": "code",
   "execution_count": null,
   "id": "5f5f45bf-6b54-4302-8b37-2468fae47dbf",
   "metadata": {},
   "outputs": [],
   "source": []
  },
  {
   "cell_type": "code",
   "execution_count": null,
   "id": "25da6707-3e20-4094-b6eb-3cc60ec9455f",
   "metadata": {},
   "outputs": [],
   "source": []
  },
  {
   "cell_type": "code",
   "execution_count": null,
   "id": "49f0099c-4263-45c2-a642-281a578a7e8d",
   "metadata": {},
   "outputs": [],
   "source": []
  },
  {
   "cell_type": "code",
   "execution_count": null,
   "id": "fbcefc0e-2095-4133-a7fd-cae337af8be3",
   "metadata": {},
   "outputs": [],
   "source": []
  },
  {
   "cell_type": "code",
   "execution_count": null,
   "id": "9781e216-a582-4911-9e39-8185fc2e058d",
   "metadata": {},
   "outputs": [],
   "source": []
  },
  {
   "cell_type": "code",
   "execution_count": null,
   "id": "45e2ce5b-8156-47c1-9624-fd542d11ee71",
   "metadata": {},
   "outputs": [],
   "source": []
  },
  {
   "cell_type": "markdown",
   "id": "76bca07c-b1e7-460a-872f-55a8049a941a",
   "metadata": {},
   "source": [
    "A simple example with only position and velocity\n",
    "Tracking an object with constant velocity: "
   ]
  },
  {
   "cell_type": "code",
   "execution_count": 398,
   "id": "ec299bdc-3066-4845-bdcc-6537db85fe61",
   "metadata": {},
   "outputs": [],
   "source": [
    "import filterpy \n",
    "from filterpy.kalman import KalmanFilter\n",
    "from filterpy.common import Q_discrete_white_noise # Piecewise white noise model \n",
    "from scipy.linalg import block_diag\n",
    "from filterpy.stats import plot_covariance_ellipse\n",
    "from kf_book.book_plots import plot_filter\n",
    "from kf_book.book_plots import plot_measurements\n",
    "from filterpy.common import Saver"
   ]
  },
  {
   "cell_type": "code",
   "execution_count": 442,
   "id": "6cf7bb06-b130-49cd-9f9a-39d32b9eb108",
   "metadata": {},
   "outputs": [],
   "source": [
    "# Simulate the object system: \n",
    "class object1(): \n",
    "    def __init__(self, pos = [0, 0], vel = [0, 0], noise_std = 1.): \n",
    "        self.pos = pos\n",
    "        self.vel = vel\n",
    "        self.noise_std = noise_std\n",
    "    def read(self): \n",
    "        self.pos[0] += self.vel[0]\n",
    "        self.pos[1] += self.vel[1]\n",
    "        return [self.pos[0] + np.random.randn() * self.noise_std, \n",
    "                self.pos[1]\n",
    "                + np.random.randn() * self.noise_std] "
   ]
  },
  {
   "cell_type": "code",
   "execution_count": 443,
   "id": "c79f7406-7728-433e-a659-ae8a5c052b97",
   "metadata": {},
   "outputs": [],
   "source": [
    "# Create the filter: \n",
    "dt = 1\n",
    "Q_std = 0.04\n",
    "R_std = 0.35\n",
    "tracker = KalmanFilter(dim_x = 4, dim_z = 2) \n",
    "tracker.F = np.array([[1, dt, 0, 0], \n",
    "                      [0, 1, 0, 0], \n",
    "                      [0, 0, 1, dt], \n",
    "                      [0, 0, 0, 1]]) \n",
    "tracker.u = 0.\n",
    "q = Q_discrete_white_noise(dim = 2, dt = dt) \n",
    "tracker.Q = block_diag(q, q)\n",
    "tracker.R = np.eye(2) * R_std**2\n",
    "tracker.H = np.array([[1, 0, 0, 0], \n",
    "                      [0, 0, 1, 0]]) \n",
    "tracker.x = np.array([[0, 0, 0, 0]]).T\n",
    "tracker.P = np.eye(4) * 5."
   ]
  },
  {
   "cell_type": "code",
   "execution_count": 444,
   "id": "825dbd06-05dd-4633-bda4-70fa973d52ae",
   "metadata": {},
   "outputs": [],
   "source": [
    "def filter_data(kf, zs):\n",
    "    s = Saver(kf)\n",
    "    kf.batch_filter(zs, saver=s)\n",
    "    s.to_array()\n",
    "    return s"
   ]
  },
  {
   "cell_type": "code",
   "execution_count": 445,
   "id": "5d8379cd-b3d9-441f-9925-b7c5bef63d2b",
   "metadata": {},
   "outputs": [],
   "source": [
    "# Run \n",
    "o = object1(vel = [2, 3], pos = [0, 0], noise_std = 1.**2) \n",
    "N = 50 # number of measurements \n",
    "zx = np.array([o.read() for _ in range(N)])\n",
    "data = filter_data(tracker, zx)"
   ]
  },
  {
   "cell_type": "code",
   "execution_count": 483,
   "id": "de5a0278-f635-4093-a6fd-bb8f59d79601",
   "metadata": {
    "scrolled": true
   },
   "outputs": [
    {
     "data": {
      "text/plain": [
       "(<matplotlib.collections.PathCollection at 0x14ca1e1d0>,)"
      ]
     },
     "execution_count": 483,
     "metadata": {},
     "output_type": "execute_result"
    },
    {
     "data": {
      "image/png": "[encoded data removed]",
      "text/plain": [
       "<Figure size 640x480 with 1 Axes>"
      ]
     },
     "metadata": {},
     "output_type": "display_data"
    }
   ],
   "source": [
    "# Plot \n",
    "plot_filter(data.x[:, 0], data.x[:, 2])\n",
    "plot_measurements(zx[:, 0], zx[:, 1])"
   ]
  },
  {
   "cell_type": "markdown",
   "id": "ecb9a352-4c70-4508-a2d2-86d518048a17",
   "metadata": {},
   "source": [
    "### Evaluating filter performance "
   ]
  },
  {
   "cell_type": "code",
   "execution_count": null,
   "id": "f3517cf3-557d-462a-af53-2331bdd564b4",
   "metadata": {},
   "outputs": [],
   "source": []
  },
  {
   "cell_type": "code",
   "execution_count": 329,
   "id": "0b433757-33d3-4548-919c-822d39d1bb6d",
   "metadata": {},
   "outputs": [],
   "source": [
    "# Plot the residuals \n",
    "from kf_book.book_plots import plot_residual_limits, set_labels"
   ]
  },
  {
   "cell_type": "code",
   "execution_count": 479,
   "id": "b74cce47-ad53-462a-9125-d73a0cb538a4",
   "metadata": {},
   "outputs": [],
   "source": [
    "def plot_residuals(zx,      # residuals \n",
    "                   data,    # data \n",
    "                   col,     # the index of the variable we want to plot in the state variable vectors.\n",
    "                   title=\"Residuals Over Time\", \n",
    "                   y_label=\"Residuals\", \n",
    "                   stds=1): # the number of standard deviations for residual bounds\n",
    "    res = zx[:, 0] - data.x[:, col, col]\n",
    "    plt.plot(res)\n",
    "    plot_residual_limits(data.P[:, col, col], stds)\n",
    "    set_labels(title, 'time (sec)', y_label)"
   ]
  },
  {
   "cell_type": "code",
   "execution_count": 482,
   "id": "762c7868-229b-447c-b6a0-df9adab743fc",
   "metadata": {},
   "outputs": [
    {
     "name": "stdout",
     "output_type": "stream",
     "text": [
      "[  0.77234311   3.4553135    7.62128909   7.56463682  10.66002796\n",
      "  12.03348369  13.19727384  15.10902995  17.09025265  20.46793995\n",
      "  23.37971991  23.91485546  26.32513477  28.81818697  31.34952626\n",
      "  32.58926156  33.6961816   35.37924877  38.12496601  38.53671319\n",
      "  40.01098045  44.15228212  47.12436849  48.09393152  50.13956626\n",
      "  52.3387916   55.40333105  56.4719192   56.65857661  59.07964088\n",
      "  62.98822926  64.62754438  64.4816321   69.04127813  71.03008397\n",
      "  71.57669215  73.27352451  74.32819897  78.11719256  79.9523029\n",
      "  81.47115462  84.26656922  86.14338762  86.82697273  89.5073205\n",
      "  91.43384305  91.64886783  95.31024687  97.41084923 100.24002239]\n",
      "[  0.78157355   3.53283862   7.78160917   7.07670318  11.03712445\n",
      "  11.82471495  13.17846289  15.19597374  17.09602344  20.62920321\n",
      "  23.32167772  23.64165408  26.54897435  28.82193946  31.35385427\n",
      "  32.43985648  33.68471118  35.44614187  38.24605678  38.26379083\n",
      "  40.14088404  44.45718198  46.98130159  47.86618247  50.26986272\n",
      "  52.35315979  55.50297686  56.23862452  56.56269748  59.34040007\n",
      "  63.15339363  64.36095516  64.28220855  69.59036024  70.71866399\n",
      "  71.41808302  73.41059589  74.25041297  78.43526509  79.71819637\n",
      "  81.44068093  84.41491496  86.03335605  86.6919089   89.74162906\n",
      "  91.3406237   91.4534626   95.71367696  97.21996327 100.32919461]\n"
     ]
    },
    {
     "data": {
      "image/png": "[encoded data removed]",
      "text/plain": [
       "<Figure size 640x480 with 1 Axes>"
      ]
     },
     "metadata": {},
     "output_type": "display_data"
    }
   ],
   "source": [
    "plot_residuals(zx, data, col= 0, stds=3) \n",
    "# Well within 3 stds  "
   ]
  },
  {
   "cell_type": "markdown",
   "id": "161f9d0f-9f53-4775-91e5-5ebeef0ede52",
   "metadata": {},
   "source": [
    "## Hungarian algorithm: \n",
    "**Step 1**: Suctract row minnima  <br>  \n",
    "**Step 2**: Subtract column minima <br>  \n",
    "**Step 3**: Cover all zeros with a minimum number of lines<\n",
    "If less than n lines are required, continue with Step 4. \n",
    "If n lines are required, an optimal assignment exits among the zeros. Stop!! <br>  \n",
    "**Step 4**: Find the smallest element (k) that is not covered by all the lines in step 3. <br>  Subtract k from all uncovered elements, and add k to all elements that "
   ]
  },
  {
   "cell_type": "code",
   "execution_count": null,
   "id": "0485935d-8550-4c1f-af4c-e636fa13c394",
   "metadata": {},
   "outputs": [],
   "source": []
  },
  {
   "cell_type": "code",
   "execution_count": 526,
   "id": "cd2dafb3-3006-4368-a684-c6c79d918338",
   "metadata": {},
   "outputs": [
    {
     "name": "stdout",
     "output_type": "stream",
     "text": [
      "Solution Found\n"
     ]
    }
   ],
   "source": [
    "import numpy as np\n",
    "\n",
    "def dfs_cover(state, row, visited_rows, visited_cols):\n",
    "    \"\"\"\n",
    "    Perform DFS to mark rows and columns involved in covering zeroes.\n",
    "\n",
    "    Parameters:\n",
    "    state: Object containing the matrix and related state variables.\n",
    "    row: Current row to explore.\n",
    "    visited_rows: Array tracking visited rows.\n",
    "    visited_cols: Array tracking visited columns.\n",
    "    \"\"\"\n",
    "    visited_rows[row] = True  # Mark the current row as visited\n",
    "\n",
    "    # Explore columns with uncovered zeroes in the current row\n",
    "    for col in range(state.C.shape[1]):\n",
    "        if state.C[row][col] == 0 and not visited_cols[col]:\n",
    "            visited_cols[col] = True  # Mark the column as visited\n",
    "\n",
    "            # Explore rows connected by marked zeroes in this column\n",
    "            for next_row in range(state.C.shape[0]):\n",
    "                if state.marked[next_row][col] == 1 and not visited_rows[next_row]:\n",
    "                    dfs_cover(state, next_row, visited_rows, visited_cols)\n",
    "\n",
    "def dfs_step3(state):\n",
    "    \"\"\"\n",
    "    Implements Step 3 of the Hungarian algorithm using DFS to find minimal row and column covers.\n",
    "\n",
    "    Parameters:\n",
    "    state: Object containing the matrix and related state variables.\n",
    "\n",
    "    Returns:\n",
    "    Solution if found, otherwise proceeds to Step 4.\n",
    "    \"\"\"\n",
    "    # Initialize visited rows and columns arrays\n",
    "    visited_rows = np.zeros(state.C.shape[0], dtype=bool)\n",
    "    visited_cols = np.zeros(state.C.shape[1], dtype=bool)\n",
    "\n",
    "    # Start DFS from rows without marked zeroes\n",
    "    for row in range(state.C.shape[0]):\n",
    "        if np.sum(state.marked[row, :]) == 0:\n",
    "            dfs_cover(state, row, visited_rows, visited_cols)\n",
    "\n",
    "    # Update row and column covers based on visited status\n",
    "    state.row_covered = np.logical_not(visited_rows)\n",
    "    state.col_covered = visited_cols\n",
    "\n",
    "    # Count total number of covering lines\n",
    "    num_lines = np.sum(state.row_covered) + np.sum(state.col_covered)\n",
    "\n",
    "    # Check for solution or proceed to the next step\n",
    "    if num_lines == state.C.shape[0]:\n",
    "        return _check_for_solution(state)  # Solution found\n",
    "    else:\n",
    "        return _step4  # Proceed to Step 4\n",
    "\n",
    "# Example Usage (Dummy state object for illustration):\n",
    "class State:\n",
    "    def __init__(self, C, marked):\n",
    "        self.C = C  # Cost matrix\n",
    "        self.marked = marked  # Marked zeroes\n",
    "        self.row_covered = np.zeros(C.shape[0], dtype=bool)\n",
    "        self.col_covered = np.zeros(C.shape[1], dtype=bool)\n",
    "\n",
    "def _check_for_solution(state):\n",
    "    # Dummy implementation for checking solution\n",
    "    return \"Solution Found\"\n",
    "\n",
    "def _step4():\n",
    "    # Dummy implementation for proceeding to Step 4\n",
    "    return \"Proceed to Step 4\"\n",
    "\n",
    "# Example matrix and marked zeroes\n",
    "C = np.array([[0, 1, 2, 0],\n",
    "              [3, 3, 0, 4],\n",
    "              [0, 2, 0, 1],\n",
    "              [1, 0, 3, 4]])\n",
    "marked = np.array([[1, 0, 0, 0],\n",
    "                   [0, 0, 0, 0],\n",
    "                   [0, 0, 1, 0],\n",
    "                   [0, 0, 0, 0]])\n",
    "\n",
    "state = State(C, marked)\n",
    "result = dfs_step3(state)\n",
    "print(result)\n"
   ]
  },
  {
   "cell_type": "markdown",
   "id": "fea94b32-7701-4223-8a52-878905d7678e",
   "metadata": {},
   "source": [
    "## Bearing "
   ]
  },
  {
   "cell_type": "code",
   "execution_count": 503,
   "id": "70bffbbe-5575-44f1-96a2-5c5d05672417",
   "metadata": {},
   "outputs": [],
   "source": [
    "from filterpy.kalman import MerweScaledSigmaPoints\n",
    "from filterpy.kalman import UnscentedKalmanFilter as UKF\n",
    "import math\n",
    "from numpy.random import randn"
   ]
  },
  {
   "cell_type": "code",
   "execution_count": 546,
   "id": "eca72d36-acc1-4764-b0fa-71d240296e8b",
   "metadata": {},
   "outputs": [],
   "source": [
    "def bearing(sensor, target_pos):\n",
    "    return math.atan2(target_pos[1] - sensor[1], \n",
    "                      target_pos[0] - sensor[0])"
   ]
  },
  {
   "cell_type": "code",
   "execution_count": 547,
   "id": "556fe278-53c3-498a-b237-ee969bb68a14",
   "metadata": {},
   "outputs": [],
   "source": [
    "def measurement(A_pos, B_pos, pos):\n",
    "    angle_a = bearing(A_pos, pos)\n",
    "    angle_b = bearing(B_pos, pos)\n",
    "    return [angle_a, angle_b]"
   ]
  },
  {
   "cell_type": "code",
   "execution_count": 548,
   "id": "21bcf55f-0bf5-4bba-8cc6-f42d9f21b43c",
   "metadata": {},
   "outputs": [],
   "source": [
    "def fx(x, dt):\n",
    "    x[0] += x[1] * dt\n",
    "    x[2] += x[3] * dt\n",
    "    return x"
   ]
  },
  {
   "cell_type": "code",
   "execution_count": 549,
   "id": "8371e46d-e7c3-433d-b408-e45f786a3b1f",
   "metadata": {},
   "outputs": [],
   "source": [
    "sa_pos = [-400, 0] # Position of sensor A\n",
    "sb_pos = [400, 0]  # Position of sensor B\n",
    "\n",
    "def hx(x):\n",
    "    pos = (x[0], x[2])\n",
    "    return measurement(sa_pos, sb_pos, pos)"
   ]
  },
  {
   "cell_type": "code",
   "execution_count": 550,
   "id": "db716254-017d-486f-8aee-9f1de4b8140d",
   "metadata": {},
   "outputs": [],
   "source": [
    "target_pos = [100, 200]\n",
    "std_noise = math.radians(0.2) # measurement noise\n",
    "points = MerweScaledSigmaPoints(n = 4, alpha = 1., beta = 2., kappa = -1)\n",
    "f = UKF(dim_x = 4, dim_z = 2, dt = dt, hx = hx, fx = fx, points = points) \n",
    "f.x = np.array([target_pos[0], 1., target_pos[1], 1.])\n",
    "q = Q_discrete_white_noise(2, dt, var = 1)\n",
    "f.Q[0:2, 0:2] = q\n",
    "f.Q[2:4, 2:4] = q\n",
    "f.R *= std_noise**2\n",
    "f.P *= 1000  # initial system noise"
   ]
  },
  {
   "cell_type": "code",
   "execution_count": 551,
   "id": "f56e6ed2-8035-408f-9037-e5f2ce1eb843",
   "metadata": {},
   "outputs": [
    {
     "name": "stdout",
     "output_type": "stream",
     "text": [
      "[0.37880882738945465, 2.5461865710824254]\n",
      "[0.38113391872157104, 2.5460894041852447]\n",
      "[0.3810427017154221, 2.543018827441497]\n",
      "[0.38544727129043, 2.5410572720924707]\n",
      "[0.38084624229753916, 2.5363132267146162]\n",
      "[0.38060683155763175, 2.53360831678939]\n",
      "[0.3870365896390148, 2.531192562201387]\n",
      "[0.3821632340527585, 2.5238237141699518]\n",
      "[0.38303573660405155, 2.511344532386921]\n",
      "[0.3903020275388111, 2.5201089356176327]\n",
      "[0.3952571809191549, 2.5130043335149534]\n",
      "[0.392628688972407, 2.510477382132272]\n",
      "[0.3945219423147324, 2.504763686402611]\n",
      "[0.3955310007435085, 2.503497737434985]\n",
      "[0.39870610057487355, 2.501486443442163]\n",
      "[0.3918559767801016, 2.489448198585723]\n",
      "[0.39450944907212265, 2.4870593699220875]\n",
      "[0.39616471356298705, 2.484148054642833]\n",
      "[0.40446631045804343, 2.477196658212847]\n",
      "[0.39534880428359187, 2.47189828737825]\n",
      "[0.40146231569990987, 2.4669680733969765]\n",
      "[0.40490652225782997, 2.4659612148134764]\n",
      "[0.40200629201193105, 2.4685197465949225]\n",
      "[0.39846888614584786, 2.461453901529037]\n",
      "[0.4056488353359967, 2.4544693003045044]\n",
      "[0.3999453897621511, 2.44876803524795]\n",
      "[0.40231246158055706, 2.4512272758619678]\n",
      "[0.40762780897617057, 2.439466631975343]\n",
      "[0.4085871071030524, 2.4364089296180564]\n",
      "[0.41061653185598396, 2.4354807125459366]\n",
      "[0.41190609370957315, 2.4327502699060655]\n",
      "[0.4059816817686931, 2.4336127335719397]\n",
      "[0.4115603384336895, 2.424050803455859]\n",
      "[0.4175749159927199, 2.4215766941268515]\n",
      "[0.41209098318812093, 2.4212590207237583]\n",
      "[0.41598892523805164, 2.413171265368032]\n",
      "[0.4173701806290508, 2.409702653781167]\n",
      "[0.4112187758902399, 2.4062400649466507]\n",
      "[0.4128760005918173, 2.3971920441169607]\n",
      "[0.41948061270551806, 2.3909052027482782]\n",
      "[0.4175103806673979, 2.393949499874807]\n",
      "[0.42542877529864925, 2.3901021495619394]\n",
      "[0.4182846372201936, 2.3810686457263888]\n",
      "[0.42450850695801806, 2.380646598161405]\n",
      "[0.41910096385469264, 2.375866384150802]\n",
      "[0.42755474961999074, 2.3731798558180364]\n",
      "[0.42422287225395583, 2.367494122433231]\n",
      "[0.42563477289595986, 2.3713223298244284]\n",
      "[0.42388934736331374, 2.357609841552925]\n",
      "[0.4218216344568739, 2.3569326245026456]\n",
      "[0.42975922461513155, 2.3539842841164123]\n",
      "[0.43313817682157707, 2.350070622924597]\n",
      "[0.42755917933334364, 2.3505397736797895]\n",
      "[0.43054081361432595, 2.3453882160673514]\n",
      "[0.43492741306644506, 2.340480447165514]\n",
      "[0.43917994628658347, 2.332124437368071]\n",
      "[0.42735256676068717, 2.3326362679357837]\n",
      "[0.4288969161500152, 2.327091933804664]\n",
      "[0.43376030351536404, 2.317514367784774]\n",
      "[0.43949417523495865, 2.3190599476552234]\n",
      "[0.434309035878363, 2.314820984061414]\n",
      "[0.4349704444172905, 2.306602495614289]\n",
      "[0.43309964716188537, 2.3035928413610223]\n",
      "[0.4435031908871893, 2.2995252301212763]\n",
      "[0.43512410532343443, 2.302226228458155]\n",
      "[0.4414395291368714, 2.291675663302191]\n",
      "[0.44152195638442043, 2.2926493218936983]\n",
      "[0.4391243842673396, 2.280753159583915]\n",
      "[0.43745968739967767, 2.2825318688715295]\n",
      "[0.444173589942711, 2.2839320041577533]\n",
      "[0.43972008439991034, 2.2661757708032964]\n",
      "[0.4451032456581165, 2.2625464260179426]\n",
      "[0.441293091626819, 2.2608048982379976]\n",
      "[0.4463176490908085, 2.260745569726341]\n",
      "[0.4397069125349499, 2.2488332755723204]\n",
      "[0.4447073091964288, 2.2582528369185506]\n",
      "[0.4441417179769686, 2.245339907317786]\n",
      "[0.4487383707078661, 2.2455459931085353]\n",
      "[0.4518125238397652, 2.2407486281553233]\n",
      "[0.45013929271603376, 2.2332166399391675]\n",
      "[0.4547556126409242, 2.234153017365789]\n",
      "[0.44962115900477956, 2.229217980494473]\n",
      "[0.4519673220465752, 2.224955330601816]\n",
      "[0.4548977310041495, 2.222610481110412]\n",
      "[0.44829836587185956, 2.218333432077869]\n",
      "[0.450146399170116, 2.2151780042416154]\n",
      "[0.4578446143958631, 2.216415738538112]\n",
      "[0.45614683706268255, 2.2058587773626503]\n",
      "[0.4522877778084944, 2.1997862298923048]\n",
      "[0.4634138280866908, 2.1958427606170003]\n",
      "[0.45331429322671224, 2.1975828792993455]\n",
      "[0.4506605313447351, 2.187678779805634]\n",
      "[0.46239772121351896, 2.1890608456840055]\n",
      "[0.46509972305605557, 2.1830393692092596]\n",
      "[0.4547144734054465, 2.177714705687174]\n",
      "[0.45573913187721216, 2.1682329080788545]\n",
      "[0.46543567118050294, 2.1694947179691373]\n",
      "[0.45570971439784896, 2.1592869767781373]\n",
      "[0.4579138189317868, 2.1609117510629403]\n",
      "[0.45978561179904937, 2.1586472905920915]\n",
      "[0.4640321127754151, 2.1562737253597946]\n",
      "[0.46432990055458095, 2.1518725464833284]\n",
      "[0.4707288216466888, 2.1466966088291586]\n",
      "[0.4713512613120764, 2.1423659668819313]\n",
      "[0.4640671557312562, 2.1366598119692792]\n",
      "[0.46958580226817853, 2.1358259815429377]\n",
      "[0.4668646932541261, 2.124911497579026]\n",
      "[0.46647108730203835, 2.132308469872401]\n",
      "[0.46823363752322905, 2.1246729076603117]\n",
      "[0.47364172051250425, 2.125200862117187]\n",
      "[0.466229763344445, 2.118567372428398]\n",
      "[0.4706137436270235, 2.110833795328817]\n",
      "[0.46859408289255566, 2.106839001751278]\n",
      "[0.4754792495564724, 2.103651130450207]\n",
      "[0.4753501631488402, 2.0971873507541026]\n",
      "[0.4742244137117286, 2.0934897779288626]\n",
      "[0.46556739436178013, 2.09319600593293]\n",
      "[0.4713903436253972, 2.0911960758320536]\n",
      "[0.47043977636560225, 2.092014553201693]\n",
      "[0.47983178030696433, 2.078650822177601]\n",
      "[0.4721308065405041, 2.0865454963969943]\n",
      "[0.4819486742369698, 2.07836058000243]\n",
      "[0.4750547467687706, 2.071588530174899]\n",
      "[0.47799308881588887, 2.073367719811799]\n",
      "[0.48347309016096307, 2.064831991688967]\n",
      "[0.4806322607737081, 2.064120718511951]\n",
      "[0.4821721941128562, 2.052250457066929]\n",
      "[0.4812478537736973, 2.051048206395701]\n",
      "[0.48017369117779535, 2.0529714470314375]\n",
      "[0.48393118434900095, 2.046891675872468]\n",
      "[0.47818876946938005, 2.0493780825474213]\n",
      "[0.48692432731325364, 2.037721980191179]\n",
      "[0.4891578038824996, 2.036042731979796]\n",
      "[0.48609015657264343, 2.0262639778531044]\n",
      "[0.4793386262202476, 2.0258556083979102]\n",
      "[0.48343387694177115, 2.026289318486791]\n",
      "[0.4871859451645934, 2.0195666511773283]\n",
      "[0.4771597777865027, 2.015951062872506]\n",
      "[0.48245139820634747, 2.0193166801066154]\n",
      "[0.48901892763041244, 2.0150432098442788]\n",
      "[0.48637648513418613, 2.0074036003164153]\n",
      "[0.49351738068966317, 2.007762345864986]\n",
      "[0.48235108444356584, 1.9978608281479706]\n",
      "[0.489766780246551, 2.0010664441671304]\n",
      "[0.4939392124507525, 1.9917145399452818]\n",
      "[0.4824893142077253, 1.99075824359093]\n",
      "[0.49400240938819634, 1.9888235916151407]\n",
      "[0.4966254858785651, 1.9773319579279356]\n",
      "[0.49024461679390396, 1.9804597081134387]\n",
      "[0.49412236679026766, 1.972820308158531]\n",
      "[0.4910584962101795, 1.9780851281033924]\n",
      "[0.49857556734549474, 1.9597432657943579]\n",
      "[0.48781431503926603, 1.9720829244330844]\n",
      "[0.5008978726916683, 1.961424498568917]\n",
      "[0.49835749180890315, 1.9578324872604833]\n",
      "[0.503398670648762, 1.9551176460809552]\n",
      "[0.4967463711872964, 1.9512297639708174]\n",
      "[0.501072061155428, 1.9467222873435714]\n",
      "[0.5026285887418824, 1.9431253143690694]\n",
      "[0.4958040990638243, 1.947381804903415]\n",
      "[0.49483728183555453, 1.9376969999827953]\n",
      "[0.5022792789137424, 1.9313442451311822]\n",
      "[0.5034752808127068, 1.9279522442347183]\n",
      "[0.5040915644795619, 1.928598174189261]\n",
      "[0.5048942092278693, 1.9221972841447073]\n",
      "[0.5022593260893626, 1.9211455648572349]\n",
      "[0.5043824818318874, 1.914019561866536]\n",
      "[0.5032067720525984, 1.9162520797292162]\n",
      "[0.5044461355566969, 1.9113060069130976]\n",
      "[0.5018908544957161, 1.9109346686647284]\n",
      "[0.5057606494255364, 1.9069098141080578]\n",
      "[0.49757643331785434, 1.8999075131040104]\n",
      "[0.5058284426771934, 1.8975003449721195]\n",
      "[0.5099847036031553, 1.8942247185651127]\n",
      "[0.5112519817441703, 1.8911311286007504]\n",
      "[0.5054499743636267, 1.892589156208602]\n",
      "[0.5020043655054633, 1.8872950603928573]\n",
      "[0.5083264371248961, 1.8846014075376747]\n",
      "[0.5117176579725675, 1.8736759826978238]\n",
      "[0.511045727460142, 1.8788756663880437]\n",
      "[0.5127299415050764, 1.8750252940310794]\n",
      "[0.5125090425383281, 1.8692987126108207]\n",
      "[0.511160864915432, 1.8670432037257694]\n",
      "[0.5101232018950336, 1.86533883044914]\n",
      "[0.5081640959081483, 1.8694300777677422]\n",
      "[0.5136499369040891, 1.8658853829997042]\n",
      "[0.5154315967725088, 1.8547981199051446]\n",
      "[0.5100628004342264, 1.851646010574292]\n",
      "[0.5105473489573743, 1.8503826171889652]\n",
      "[0.5125855472305678, 1.8429893526405923]\n",
      "[0.51527745402297, 1.8421222526986096]\n",
      "[0.5174929483651739, 1.8393511663275899]\n",
      "[0.505413432482705, 1.8294686304070804]\n",
      "[0.5125974410182889, 1.8377937081415356]\n",
      "[0.5150298883490829, 1.831998990536402]\n",
      "[0.5208021349418076, 1.8301293135755945]\n",
      "[0.5164488066732237, 1.8265797289347023]\n",
      "[0.5194049769742811, 1.8206995440932168]\n",
      "[0.5204567331499634, 1.8213044976753896]\n",
      "[0.5118171896726276, 1.810644715093929]\n",
      "[0.5184743471721162, 1.811587103560249]\n",
      "[0.521665826218478, 1.808082606354743]\n",
      "[0.5107752979237098, 1.8087943498251358]\n",
      "[0.5235247164682901, 1.8048580460946977]\n",
      "[0.5186259807942333, 1.8046272372114227]\n",
      "[0.5208692969942026, 1.8050550705223065]\n",
      "[0.5243409798140127, 1.7961678102411074]\n",
      "[0.5243429771945748, 1.7954521408787905]\n",
      "[0.5214159783577436, 1.7948944940835494]\n",
      "[0.5278553790862389, 1.7923146542619308]\n",
      "[0.5260892138794759, 1.781459346869208]\n",
      "[0.524359430938021, 1.7820890342911762]\n",
      "[0.5287937961258123, 1.7802099604528185]\n",
      "[0.5341620337184556, 1.7721538023389478]\n",
      "[0.5251791603143642, 1.7714284742381534]\n",
      "[0.532433661849956, 1.769633721605384]\n",
      "[0.5286046000785807, 1.769634281095226]\n",
      "[0.5267019806220125, 1.7672393535475615]\n",
      "[0.5266401801864182, 1.7591970925198004]\n",
      "[0.5249073365798088, 1.7576422039232056]\n",
      "[0.5262263241847178, 1.7580942400156592]\n",
      "[0.5199311256022698, 1.7528327341538694]\n",
      "[0.5310710857420451, 1.7588265347344496]\n",
      "[0.5322647398165576, 1.7504150191910932]\n",
      "[0.5324851796681904, 1.7442935929641246]\n",
      "[0.5294014039612738, 1.7425439261523883]\n",
      "[0.5313641032740096, 1.7376097078427954]\n",
      "[0.5252788480809502, 1.7393541524494416]\n",
      "[0.5304244608241485, 1.737792938469406]\n",
      "[0.5311629965028756, 1.7355554829642388]\n",
      "[0.5332234487571483, 1.723961123784609]\n",
      "[0.5309388796763846, 1.729194093281436]\n",
      "[0.5320037681724108, 1.7256432783247766]\n",
      "[0.5369405961555066, 1.717977832648344]\n",
      "[0.5344396933792672, 1.719499877912525]\n",
      "[0.5381411998284225, 1.719917804185633]\n",
      "[0.5365529688707866, 1.714561470515964]\n",
      "[0.5326577863383822, 1.7157837105342706]\n",
      "[0.5371522251244386, 1.704408500360246]\n",
      "[0.5392141821403311, 1.7080918719012128]\n",
      "[0.5405701810727592, 1.703178070719592]\n",
      "[0.5352109837119595, 1.6984467371983687]\n",
      "[0.5459943969864474, 1.6977864831512184]\n",
      "[0.5394737627704338, 1.689989058786286]\n",
      "[0.5369353140572425, 1.6941297590997186]\n",
      "[0.5418302701887411, 1.6960277812172775]\n",
      "[0.5340927229144381, 1.675033902127201]\n",
      "[0.545694787114689, 1.6876824740474436]\n",
      "[0.5465868285346778, 1.6813334909111068]\n",
      "[0.538123048817399, 1.6825342032334212]\n",
      "[0.5379836271397402, 1.6775098996902205]\n",
      "[0.5415608755662088, 1.6693486857269006]\n",
      "[0.5420433852024541, 1.673605902322641]\n",
      "[0.5394253933907062, 1.6792935323633058]\n",
      "[0.5418022356055594, 1.6715619006001181]\n",
      "[0.5417027795631416, 1.6698869947361694]\n",
      "[0.5479995466046093, 1.6677806868627918]\n",
      "[0.5460417542029394, 1.6651823640703212]\n",
      "[0.5423665815159161, 1.6659288536420997]\n",
      "[0.5508794335968668, 1.6544859018706028]\n",
      "[0.548865005517674, 1.6552797986053174]\n",
      "[0.5461040194512837, 1.6537516422067844]\n",
      "[0.5447123169619145, 1.6516247693223234]\n",
      "[0.5528812837831178, 1.6422250561507674]\n",
      "[0.5443661971109728, 1.6482022549408848]\n",
      "[0.5494280710596459, 1.6455143391938338]\n",
      "[0.5429819274128409, 1.6374726750963635]\n",
      "[0.5475507695676806, 1.6458971906729498]\n",
      "[0.551217375675226, 1.6421691029014864]\n",
      "[0.5468140839160581, 1.6317758047058384]\n",
      "[0.5540443166944505, 1.6354460022632828]\n",
      "[0.5513632491130465, 1.6303196239986721]\n",
      "[0.5494698633418459, 1.6274335565926]\n",
      "[0.5429010619520149, 1.6333722069519216]\n",
      "[0.5452074515837187, 1.6225216927206478]\n",
      "[0.5523303038756425, 1.622267557090414]\n",
      "[0.5496831803942889, 1.623575440144529]\n",
      "[0.5478492898790744, 1.6113548978610566]\n",
      "[0.5551823527921804, 1.6175146206945807]\n",
      "[0.5518421742289543, 1.6064565647344615]\n",
      "[0.552088635594852, 1.607936631791922]\n",
      "[0.548887090208775, 1.6039053822818783]\n",
      "[0.5550123553413793, 1.6018177183770395]\n",
      "[0.5545460662841075, 1.5990547463306515]\n",
      "[0.5575793612813453, 1.605577843134627]\n",
      "[0.5549855737882252, 1.5971653464706623]\n",
      "[0.5530403317117282, 1.5984125846071966]\n",
      "[0.5556479962302756, 1.5940735841063645]\n",
      "[0.5490044073460982, 1.5925356479464723]\n",
      "[0.5566585223133561, 1.5915979218947918]\n",
      "[0.5539031878835201, 1.5882877793834935]\n",
      "[0.55377118886493, 1.5864163189726104]\n",
      "[0.5563657146717886, 1.5853542118598185]\n",
      "[0.5541443641871004, 1.5876721802700156]\n",
      "[0.563589538614221, 1.5844164862277836]\n",
      "[0.5589730305176325, 1.57461849932087]\n",
      "[0.561716220623035, 1.574533354431753]\n",
      "[0.554631764461518, 1.5672558563985277]\n",
      "[0.5627912549513894, 1.5755174736599746]\n",
      "[0.5601709258017478, 1.5684220096834511]\n"
     ]
    },
    {
     "data": {
      "image/png": "[encoded data removed]",
      "text/plain": [
       "<Figure size 640x480 with 1 Axes>"
      ]
     },
     "metadata": {},
     "output_type": "display_data"
    }
   ],
   "source": [
    "def plot_straight_line_target(f, std_noise): \n",
    "    xs, txs = [], [] # estimated pos, simulated pos \n",
    "    for i in range(300): \n",
    "        target_pos[0] += 1 + randn()*0.0001\n",
    "        target_pos[1] += 1 + randn()*0.0001\n",
    "        txs.append([target_pos[0], target_pos[1]]) \n",
    "        z = measurement(sa_pos, sb_pos, target_pos) \n",
    "        z[0] += randn() * std_noise\n",
    "        z[1] += randn() * std_noise\n",
    "        print(z)\n",
    "        f.predict() \n",
    "        f.update(z)    \n",
    "        xs.append(f.x) \n",
    "\n",
    "    xs = np.asarray(xs)\n",
    "    txs = np.asarray(txs)\n",
    "    plt.plot(xs[:, 0], xs[:, 2])\n",
    "    plt.plot(txs[:, 0], txs[:, 1], ls='--', lw=2, c='k')\n",
    "    plt.show() \n",
    "\n",
    "plot_straight_line_target(f, std_noise)"
   ]
  },
  {
   "cell_type": "markdown",
   "id": "6f87f1f0-c254-4f32-b854-309661e7649e",
   "metadata": {},
   "source": [
    "## 3D to 2D projection \n",
    "### Using pinhole camera model \n"
   ]
  },
  {
   "cell_type": "code",
   "execution_count": 733,
   "id": "1e624a7b-8de1-4daa-bc9b-4f9abf74eb20",
   "metadata": {},
   "outputs": [],
   "source": [
    "# Assuming world origin, object origin and camera origin are the same and don't need any transformation. \n",
    "std_noise = 0.1\n",
    "f_x, f_y  = 800, 800\n",
    "target_pos = [100, 200, 300]\n",
    "dt = 1 \n",
    "def hx(x):\n",
    "    X = x[0]\n",
    "    Y = x[2]\n",
    "    Z = x[4]\n",
    "    u = f_x * (X / Z)\n",
    "    v = f_y * (Y / Z)\n",
    "    return np.array([u, v])\n",
    "def fx(x, dt): \n",
    "    x[0] += x[1] * dt\n",
    "    x[2] += x[3] * dt\n",
    "    x[4] += x[5] * dt\n",
    "    return x\n",
    "def measurement(target_pos): \n",
    "    x = target_pos[0] \n",
    "    y = target_pos[1] \n",
    "    z = target_pos[2] \n",
    "    u = f_x * (x / z)\n",
    "    v = f_y * (y / z) \n",
    "    return [u, v]\n",
    "points = MerweScaledSigmaPoints(n=6, alpha=0.1, beta=2.0, kappa=-3)\n",
    "f = UKF(dim_x=6, dim_z=2, dt=dt, fx=fx, hx=hx, points=points)\n",
    "f.x = np.array([target_pos[0], 1., target_pos[1], 1., target_pos[2], 1.])\n",
    "f.Q *= 0.1 \n",
    "f.R = np.array([[0.5, 0], [0, 0.5]])\n",
    "f.P *= 10"
   ]
  },
  {
   "cell_type": "code",
   "execution_count": 734,
   "id": "062b748a-6776-4f91-bcbc-ef4531b192b4",
   "metadata": {},
   "outputs": [],
   "source": [
    "xs, txs = [], [] # estimated pos, simulated pos \n",
    "for i in range(30): \n",
    "    target_pos[0] += 1 + randn()*0.0001\n",
    "    target_pos[1] += 1 + randn()*0.0001\n",
    "    target_pos[2] += 1 + randn()*0.0001\n",
    "    txs.append([target_pos[0], target_pos[1], target_pos[2]]) \n",
    "    z = measurement(target_pos) + np.random.normal(0, std_noise , size=2)\n",
    "    f.predict() \n",
    "    f.update(z)  \n",
    "    xs.append(f.x) \n",
    "\n",
    "#print(target_pos)"
   ]
  },
  {
   "cell_type": "code",
   "execution_count": 735,
   "id": "35c9ed59-1594-4cbc-a874-fba4f38537fd",
   "metadata": {},
   "outputs": [
    {
     "data": {
      "image/png": "[encoded data removed]",
      "text/plain": [
       "<Figure size 640x480 with 1 Axes>"
      ]
     },
     "metadata": {},
     "output_type": "display_data"
    }
   ],
   "source": [
    "xs = np.asarray(xs)\n",
    "txs = np.asarray(txs)\n",
    "plt.plot(xs[:, 0], xs[:, 2])\n",
    "plt.plot(txs[:, 0], txs[:, 1], ls='--', lw=2, c='k')\n",
    "plt.show() "
   ]
  }
 ],
 "metadata": {
  "kernelspec": {
   "display_name": "Python 3 (ipykernel)",
   "language": "python",
   "name": "python3"
  },
  "language_info": {
   "codemirror_mode": {
    "name": "ipython",
    "version": 3
   },
   "file_extension": ".py",
   "mimetype": "text/x-python",
   "name": "python",
   "nbconvert_exporter": "python",
   "pygments_lexer": "ipython3",
   "version": "3.11.7"
  }
 },
 "nbformat": 4,
 "nbformat_minor": 5
}
